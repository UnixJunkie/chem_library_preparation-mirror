{
 "cells": [
  {
   "cell_type": "code",
   "execution_count": 3,
   "metadata": {},
   "outputs": [],
   "source": [
    "# imports\n",
    "from rdkit import Chem\n",
    "from rdkit.Chem import AllChem"
   ]
  },
  {
   "cell_type": "code",
   "execution_count": 12,
   "metadata": {},
   "outputs": [],
   "source": [
    "# initializations\n",
    "fn = \"test_3lig.sdf\"\n",
    "N = 50\n",
    "RMS = 0.75\n",
    "nbthread = 4\n",
    "conf_fn = \"test_conf_\" + str(RMS) + \".sdf\""
   ]
  },
  {
   "cell_type": "code",
   "execution_count": 13,
   "metadata": {},
   "outputs": [
    {
     "name": "stdout",
     "output_type": "stream",
     "text": [
      "<rdkit.Chem.rdchem.Mol object at 0x7f13479917c0>\n",
      "<rdkit.rdBase._vecti object at 0x7f134602b0d0>\n",
      "<rdkit.Chem.rdchem.Mol object at 0x7f13479917c0>\n",
      "<rdkit.rdBase._vecti object at 0x7f136c9668d0>\n",
      "<rdkit.Chem.rdchem.Mol object at 0x7f13479917c0>\n",
      "<rdkit.rdBase._vecti object at 0x7f1346019c50>\n"
     ]
    }
   ],
   "source": [
    "# conformer generation tests:\n",
    "mols = Chem.SDMolSupplier(fn, removeHs=False)\n",
    "writer = Chem.SDWriter(conf_fn, )\n",
    "\n",
    "for mol in mols:\n",
    "    mol = Chem.AddHs(mol)\n",
    "    conf = AllChem.EmbedMultipleConfs(mol, numConfs = int(N),\\\n",
    "                                      pruneRmsThresh = float(RMS),\\\n",
    "                                      useExpTorsionAnglePrefs = True,\\\n",
    "                                      useBasicKnowledge = True,\\\n",
    "                                      numThreads = int(nbthread))\n",
    "    print(mol)\n",
    "    print(conf)\n",
    "    Chem.rdMolAlign.AlignMolConformers(mol)\n",
    "    AllChem.UFFOptimizeMoleculeConfs(mol, numThreads=int(nbthread))\n",
    "    \n",
    "    for i in range(len(conf)):\n",
    "        writer.write(mol, confId = i)\n",
    "writer.close()"
   ]
  },
  {
   "cell_type": "code",
   "execution_count": null,
   "metadata": {},
   "outputs": [],
   "source": []
  }
 ],
 "metadata": {
  "kernelspec": {
   "display_name": "Python 2",
   "language": "python",
   "name": "python2"
  },
  "language_info": {
   "codemirror_mode": {
    "name": "ipython",
    "version": 2
   },
   "file_extension": ".py",
   "mimetype": "text/x-python",
   "name": "python",
   "nbconvert_exporter": "python",
   "pygments_lexer": "ipython2",
   "version": "2.7.13"
  }
 },
 "nbformat": 4,
 "nbformat_minor": 2
}
